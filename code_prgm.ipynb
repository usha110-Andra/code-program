{
  "nbformat": 4,
  "nbformat_minor": 0,
  "metadata": {
    "colab": {
      "private_outputs": true,
      "provenance": []
    },
    "kernelspec": {
      "name": "python3",
      "display_name": "Python 3"
    },
    "language_info": {
      "name": "python"
    }
  },
  "cells": [
    {
      "cell_type": "code",
      "execution_count": null,
      "metadata": {
        "id": "crujzabXa6j6"
      },
      "outputs": [],
      "source": [
        "# Sam and Alex are friends. Sam wants Alex to solve the code from a given 10 digit number.\n",
        "#Help Alex to check whether the sum of first digit, third digit, last digit, third-last digits is\n",
        "#divisible by 3 or not. If divisible, then secret code is found or else not. Print appropriate\n",
        "#message.\n",
        "n = int(input(\"enter number\"))\n",
        "n1 = n // 10**9\n",
        "n2 = (n // 10**7) % 10\n",
        "n3 = (n // 10**2) % 10\n",
        "n4 = n % 10\n",
        "sum=(n1 + n2 + n3 + n4)\n",
        "if sum%3==0:\n",
        "  print(\"secrete code found\")\n",
        "else:\n",
        "    print(\"secrete code not found\")\n"
      ]
    },
    {
      "cell_type": "code",
      "source": [
        "p1=int(input(\"enter earned house points\"))\n",
        "p2=int(input(\"enter earned car points\"))\n",
        "p3=int(input(\"enter earned game points\"))\n",
        "if p1>p2 and p1>p3:\n",
        "  print(\"harry got the more points\")\n",
        "elif p2>p3:\n",
        "  print(\"ron got mpre points\")\n",
        "else:\n",
        "  print(\"hermione got more points\")"
      ],
      "metadata": {
        "id": "i5lDEK7LcSTu"
      },
      "execution_count": null,
      "outputs": []
    }
  ]
}